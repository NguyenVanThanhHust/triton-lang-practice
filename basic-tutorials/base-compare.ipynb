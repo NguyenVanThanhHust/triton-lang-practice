{
 "cells": [
  {
   "cell_type": "code",
   "execution_count": 1,
   "id": "a35a04b3-c20a-40b0-be53-707226e4f7e4",
   "metadata": {},
   "outputs": [],
   "source": [
    "import torch\n",
    "import triton\n",
    "import triton.language as tl\n"
   ]
  },
  {
   "cell_type": "code",
   "execution_count": null,
   "id": "82b5a722-ec82-4844-b11b-bc4c5eb85311",
   "metadata": {},
   "outputs": [],
   "source": [
    "# Write CUDA kernel for sin using Triton\n",
    "@triton.jit\n",
    "def _sin(x_prt, output_ptr, \n",
    "         BLOCK_SIZE: tl.constexpr):\n",
    "    pid = tl.program_id(axis=0)\n",
    "    "
   ]
  }
 ],
 "metadata": {
  "kernelspec": {
   "display_name": "Python 3 (ipykernel)",
   "language": "python",
   "name": "python3"
  },
  "language_info": {
   "codemirror_mode": {
    "name": "ipython",
    "version": 3
   },
   "file_extension": ".py",
   "mimetype": "text/x-python",
   "name": "python",
   "nbconvert_exporter": "python",
   "pygments_lexer": "ipython3",
   "version": "3.9.19"
  }
 },
 "nbformat": 4,
 "nbformat_minor": 5
}
